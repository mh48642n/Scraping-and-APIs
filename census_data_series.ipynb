{
 "cells": [
  {
   "cell_type": "markdown",
   "metadata": {},
   "source": [
    "### Data Collection II\n",
    "Making it easier to access multiple series of the M3 survey from Census Bureau"
   ]
  },
  {
   "cell_type": "code",
   "execution_count": null,
   "metadata": {},
   "outputs": [],
   "source": [
    "import pandas as pd\n",
    "import requests\n",
    "import json\n",
    "import os \n",
    "from bs4 import BeautifulSoup as bs \n",
    "import re\n",
    "from collections import OrderedDict as od\n",
    "from pypdf import PdfReader "
   ]
  },
  {
   "cell_type": "code",
   "execution_count": null,
   "metadata": {},
   "outputs": [],
   "source": [
    "os.chdir(\"C:/Users/marvi/OneDrive/Documents/GitHub/Scraping-and-APIs\")\n",
    "os.getcwd()"
   ]
  },
  {
   "cell_type": "markdown",
   "metadata": {},
   "source": [
    "#### Census Bureau\n",
    "[M3 categories](https://www2.census.gov/programs-surveys/m3/technical-documentation/code-lists/sichist.pdf)"
   ]
  },
  {
   "cell_type": "code",
   "execution_count": null,
   "metadata": {},
   "outputs": [],
   "source": [
    "census = requests.get(\"https://api.census.gov/data/timeseries/eits/m3.json?get=cell_value,data_type_code,time_slot_id,seasonally_adj,category_code,error_data&for=US&time=from+1992-01+to+2024-03&key=a9c6bd12867708842174babc90f20cfaa20255a7\")\n",
    "census = census.json()\n",
    "cbs = pd.DataFrame(census, columns = census[0])\n",
    "cbs = cbs[cbs[\"data_type_code\"] == 'VS'].reset_index(drop = True)"
   ]
  },
  {
   "cell_type": "code",
   "execution_count": null,
   "metadata": {},
   "outputs": [],
   "source": [
    "#Grabs and sorts unique values for the category code\n",
    "b = cbs[\"category_code\"].tolist()\n",
    "cat_abv = list(od.fromkeys(b))\n",
    "cat_abv = sorted(cat_abv)"
   ]
  },
  {
   "cell_type": "code",
   "execution_count": null,
   "metadata": {},
   "outputs": [],
   "source": [
    "reader = PdfReader('m3_codes.pdf')\n",
    "print(len(reader.pages))\n",
    "text = \"\"\n",
    "\n",
    "for i in range(0, len(reader.pages)):\n",
    "    text += reader.pages[i].extract_text()\n",
    "text = str(text)\n"
   ]
  },
  {
   "cell_type": "code",
   "execution_count": null,
   "metadata": {},
   "outputs": [],
   "source": [
    "for i in range(0,len(text)):\n",
    "    if (text[i] == \" \"):\n",
    "        print(\"blank\")\n"
   ]
  }
 ],
 "metadata": {
  "kernelspec": {
   "display_name": "base",
   "language": "python",
   "name": "python3"
  },
  "language_info": {
   "name": "python",
   "version": "3.11.5"
  }
 },
 "nbformat": 4,
 "nbformat_minor": 2
}
