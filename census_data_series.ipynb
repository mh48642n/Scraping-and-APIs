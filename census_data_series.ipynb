{
 "cells": [
  {
   "cell_type": "markdown",
   "metadata": {},
   "source": [
    "### Data Collection II\n",
    "Making it easier to access multiple series of the M3 survey from Census Bureau"
   ]
  },
  {
   "cell_type": "code",
   "execution_count": 1,
   "metadata": {},
   "outputs": [],
   "source": [
    "import pandas as pd\n",
    "import requests\n",
    "import json\n",
    "import os \n",
    "from bs4 import BeautifulSoup as bs \n",
    "import re\n",
    "from collections import OrderedDict as od\n",
    "from pypdf import PdfReader "
   ]
  },
  {
   "cell_type": "code",
   "execution_count": null,
   "metadata": {},
   "outputs": [],
   "source": [
    "os.chdir(\"C:/Users/marvi/OneDrive/Documents/GitHub/Scraping-and-APIs\")\n",
    "os.getcwd()"
   ]
  },
  {
   "cell_type": "markdown",
   "metadata": {},
   "source": [
    "#### Census Bureau\n",
    "[M3 categories](https://www2.census.gov/programs-surveys/m3/technical-documentation/code-lists/sichist.pdf)"
   ]
  },
  {
   "cell_type": "code",
   "execution_count": 2,
   "metadata": {},
   "outputs": [
    {
     "ename": "KeyboardInterrupt",
     "evalue": "",
     "output_type": "error",
     "traceback": [
      "\u001b[1;31m---------------------------------------------------------------------------\u001b[0m",
      "\u001b[1;31mKeyboardInterrupt\u001b[0m                         Traceback (most recent call last)",
      "Cell \u001b[1;32mIn[2], line 1\u001b[0m\n\u001b[1;32m----> 1\u001b[0m census \u001b[38;5;241m=\u001b[39m \u001b[43mrequests\u001b[49m\u001b[38;5;241;43m.\u001b[39;49m\u001b[43mget\u001b[49m\u001b[43m(\u001b[49m\u001b[38;5;124;43m\"\u001b[39;49m\u001b[38;5;124;43mhttps://api.census.gov/data/timeseries/eits/m3.json?get=cell_value,data_type_code,time_slot_id,seasonally_adj,category_code,error_data&for=US&time=from+1992-01+to+2024-03&key=a9c6bd12867708842174babc90f20cfaa20255a7\u001b[39;49m\u001b[38;5;124;43m\"\u001b[39;49m\u001b[43m)\u001b[49m\n\u001b[0;32m      2\u001b[0m census \u001b[38;5;241m=\u001b[39m census\u001b[38;5;241m.\u001b[39mjson()\n\u001b[0;32m      3\u001b[0m cbs \u001b[38;5;241m=\u001b[39m pd\u001b[38;5;241m.\u001b[39mDataFrame(census, columns \u001b[38;5;241m=\u001b[39m census[\u001b[38;5;241m0\u001b[39m])\n",
      "File \u001b[1;32mc:\\Users\\marvi\\anaconda3\\Lib\\site-packages\\requests\\api.py:73\u001b[0m, in \u001b[0;36mget\u001b[1;34m(url, params, **kwargs)\u001b[0m\n\u001b[0;32m     62\u001b[0m \u001b[38;5;28;01mdef\u001b[39;00m \u001b[38;5;21mget\u001b[39m(url, params\u001b[38;5;241m=\u001b[39m\u001b[38;5;28;01mNone\u001b[39;00m, \u001b[38;5;241m*\u001b[39m\u001b[38;5;241m*\u001b[39mkwargs):\n\u001b[0;32m     63\u001b[0m \u001b[38;5;250m    \u001b[39m\u001b[38;5;124mr\u001b[39m\u001b[38;5;124;03m\"\"\"Sends a GET request.\u001b[39;00m\n\u001b[0;32m     64\u001b[0m \n\u001b[0;32m     65\u001b[0m \u001b[38;5;124;03m    :param url: URL for the new :class:`Request` object.\u001b[39;00m\n\u001b[1;32m   (...)\u001b[0m\n\u001b[0;32m     70\u001b[0m \u001b[38;5;124;03m    :rtype: requests.Response\u001b[39;00m\n\u001b[0;32m     71\u001b[0m \u001b[38;5;124;03m    \"\"\"\u001b[39;00m\n\u001b[1;32m---> 73\u001b[0m     \u001b[38;5;28;01mreturn\u001b[39;00m \u001b[43mrequest\u001b[49m\u001b[43m(\u001b[49m\u001b[38;5;124;43m\"\u001b[39;49m\u001b[38;5;124;43mget\u001b[39;49m\u001b[38;5;124;43m\"\u001b[39;49m\u001b[43m,\u001b[49m\u001b[43m \u001b[49m\u001b[43murl\u001b[49m\u001b[43m,\u001b[49m\u001b[43m \u001b[49m\u001b[43mparams\u001b[49m\u001b[38;5;241;43m=\u001b[39;49m\u001b[43mparams\u001b[49m\u001b[43m,\u001b[49m\u001b[43m \u001b[49m\u001b[38;5;241;43m*\u001b[39;49m\u001b[38;5;241;43m*\u001b[39;49m\u001b[43mkwargs\u001b[49m\u001b[43m)\u001b[49m\n",
      "File \u001b[1;32mc:\\Users\\marvi\\anaconda3\\Lib\\site-packages\\requests\\api.py:59\u001b[0m, in \u001b[0;36mrequest\u001b[1;34m(method, url, **kwargs)\u001b[0m\n\u001b[0;32m     55\u001b[0m \u001b[38;5;66;03m# By using the 'with' statement we are sure the session is closed, thus we\u001b[39;00m\n\u001b[0;32m     56\u001b[0m \u001b[38;5;66;03m# avoid leaving sockets open which can trigger a ResourceWarning in some\u001b[39;00m\n\u001b[0;32m     57\u001b[0m \u001b[38;5;66;03m# cases, and look like a memory leak in others.\u001b[39;00m\n\u001b[0;32m     58\u001b[0m \u001b[38;5;28;01mwith\u001b[39;00m sessions\u001b[38;5;241m.\u001b[39mSession() \u001b[38;5;28;01mas\u001b[39;00m session:\n\u001b[1;32m---> 59\u001b[0m     \u001b[38;5;28;01mreturn\u001b[39;00m \u001b[43msession\u001b[49m\u001b[38;5;241;43m.\u001b[39;49m\u001b[43mrequest\u001b[49m\u001b[43m(\u001b[49m\u001b[43mmethod\u001b[49m\u001b[38;5;241;43m=\u001b[39;49m\u001b[43mmethod\u001b[49m\u001b[43m,\u001b[49m\u001b[43m \u001b[49m\u001b[43murl\u001b[49m\u001b[38;5;241;43m=\u001b[39;49m\u001b[43murl\u001b[49m\u001b[43m,\u001b[49m\u001b[43m \u001b[49m\u001b[38;5;241;43m*\u001b[39;49m\u001b[38;5;241;43m*\u001b[39;49m\u001b[43mkwargs\u001b[49m\u001b[43m)\u001b[49m\n",
      "File \u001b[1;32mc:\\Users\\marvi\\anaconda3\\Lib\\site-packages\\requests\\sessions.py:589\u001b[0m, in \u001b[0;36mSession.request\u001b[1;34m(self, method, url, params, data, headers, cookies, files, auth, timeout, allow_redirects, proxies, hooks, stream, verify, cert, json)\u001b[0m\n\u001b[0;32m    584\u001b[0m send_kwargs \u001b[38;5;241m=\u001b[39m {\n\u001b[0;32m    585\u001b[0m     \u001b[38;5;124m\"\u001b[39m\u001b[38;5;124mtimeout\u001b[39m\u001b[38;5;124m\"\u001b[39m: timeout,\n\u001b[0;32m    586\u001b[0m     \u001b[38;5;124m\"\u001b[39m\u001b[38;5;124mallow_redirects\u001b[39m\u001b[38;5;124m\"\u001b[39m: allow_redirects,\n\u001b[0;32m    587\u001b[0m }\n\u001b[0;32m    588\u001b[0m send_kwargs\u001b[38;5;241m.\u001b[39mupdate(settings)\n\u001b[1;32m--> 589\u001b[0m resp \u001b[38;5;241m=\u001b[39m \u001b[38;5;28;43mself\u001b[39;49m\u001b[38;5;241;43m.\u001b[39;49m\u001b[43msend\u001b[49m\u001b[43m(\u001b[49m\u001b[43mprep\u001b[49m\u001b[43m,\u001b[49m\u001b[43m \u001b[49m\u001b[38;5;241;43m*\u001b[39;49m\u001b[38;5;241;43m*\u001b[39;49m\u001b[43msend_kwargs\u001b[49m\u001b[43m)\u001b[49m\n\u001b[0;32m    591\u001b[0m \u001b[38;5;28;01mreturn\u001b[39;00m resp\n",
      "File \u001b[1;32mc:\\Users\\marvi\\anaconda3\\Lib\\site-packages\\requests\\sessions.py:747\u001b[0m, in \u001b[0;36mSession.send\u001b[1;34m(self, request, **kwargs)\u001b[0m\n\u001b[0;32m    744\u001b[0m         \u001b[38;5;28;01mpass\u001b[39;00m\n\u001b[0;32m    746\u001b[0m \u001b[38;5;28;01mif\u001b[39;00m \u001b[38;5;129;01mnot\u001b[39;00m stream:\n\u001b[1;32m--> 747\u001b[0m     \u001b[43mr\u001b[49m\u001b[38;5;241;43m.\u001b[39;49m\u001b[43mcontent\u001b[49m\n\u001b[0;32m    749\u001b[0m \u001b[38;5;28;01mreturn\u001b[39;00m r\n",
      "File \u001b[1;32mc:\\Users\\marvi\\anaconda3\\Lib\\site-packages\\requests\\models.py:899\u001b[0m, in \u001b[0;36mResponse.content\u001b[1;34m(self)\u001b[0m\n\u001b[0;32m    897\u001b[0m         \u001b[38;5;28mself\u001b[39m\u001b[38;5;241m.\u001b[39m_content \u001b[38;5;241m=\u001b[39m \u001b[38;5;28;01mNone\u001b[39;00m\n\u001b[0;32m    898\u001b[0m     \u001b[38;5;28;01melse\u001b[39;00m:\n\u001b[1;32m--> 899\u001b[0m         \u001b[38;5;28mself\u001b[39m\u001b[38;5;241m.\u001b[39m_content \u001b[38;5;241m=\u001b[39m \u001b[38;5;124;43mb\u001b[39;49m\u001b[38;5;124;43m\"\u001b[39;49m\u001b[38;5;124;43m\"\u001b[39;49m\u001b[38;5;241;43m.\u001b[39;49m\u001b[43mjoin\u001b[49m\u001b[43m(\u001b[49m\u001b[38;5;28;43mself\u001b[39;49m\u001b[38;5;241;43m.\u001b[39;49m\u001b[43miter_content\u001b[49m\u001b[43m(\u001b[49m\u001b[43mCONTENT_CHUNK_SIZE\u001b[49m\u001b[43m)\u001b[49m\u001b[43m)\u001b[49m \u001b[38;5;129;01mor\u001b[39;00m \u001b[38;5;124mb\u001b[39m\u001b[38;5;124m\"\u001b[39m\u001b[38;5;124m\"\u001b[39m\n\u001b[0;32m    901\u001b[0m \u001b[38;5;28mself\u001b[39m\u001b[38;5;241m.\u001b[39m_content_consumed \u001b[38;5;241m=\u001b[39m \u001b[38;5;28;01mTrue\u001b[39;00m\n\u001b[0;32m    902\u001b[0m \u001b[38;5;66;03m# don't need to release the connection; that's been handled by urllib3\u001b[39;00m\n\u001b[0;32m    903\u001b[0m \u001b[38;5;66;03m# since we exhausted the data.\u001b[39;00m\n",
      "File \u001b[1;32mc:\\Users\\marvi\\anaconda3\\Lib\\site-packages\\requests\\models.py:816\u001b[0m, in \u001b[0;36mResponse.iter_content.<locals>.generate\u001b[1;34m()\u001b[0m\n\u001b[0;32m    814\u001b[0m \u001b[38;5;28;01mif\u001b[39;00m \u001b[38;5;28mhasattr\u001b[39m(\u001b[38;5;28mself\u001b[39m\u001b[38;5;241m.\u001b[39mraw, \u001b[38;5;124m\"\u001b[39m\u001b[38;5;124mstream\u001b[39m\u001b[38;5;124m\"\u001b[39m):\n\u001b[0;32m    815\u001b[0m     \u001b[38;5;28;01mtry\u001b[39;00m:\n\u001b[1;32m--> 816\u001b[0m         \u001b[38;5;28;01myield from\u001b[39;00m \u001b[38;5;28mself\u001b[39m\u001b[38;5;241m.\u001b[39mraw\u001b[38;5;241m.\u001b[39mstream(chunk_size, decode_content\u001b[38;5;241m=\u001b[39m\u001b[38;5;28;01mTrue\u001b[39;00m)\n\u001b[0;32m    817\u001b[0m     \u001b[38;5;28;01mexcept\u001b[39;00m ProtocolError \u001b[38;5;28;01mas\u001b[39;00m e:\n\u001b[0;32m    818\u001b[0m         \u001b[38;5;28;01mraise\u001b[39;00m ChunkedEncodingError(e)\n",
      "File \u001b[1;32mc:\\Users\\marvi\\anaconda3\\Lib\\site-packages\\urllib3\\response.py:624\u001b[0m, in \u001b[0;36mHTTPResponse.stream\u001b[1;34m(self, amt, decode_content)\u001b[0m\n\u001b[0;32m    608\u001b[0m \u001b[38;5;250m\u001b[39m\u001b[38;5;124;03m\"\"\"\u001b[39;00m\n\u001b[0;32m    609\u001b[0m \u001b[38;5;124;03mA generator wrapper for the read() method. A call will block until\u001b[39;00m\n\u001b[0;32m    610\u001b[0m \u001b[38;5;124;03m``amt`` bytes have been read from the connection or until the\u001b[39;00m\n\u001b[1;32m   (...)\u001b[0m\n\u001b[0;32m    621\u001b[0m \u001b[38;5;124;03m    'content-encoding' header.\u001b[39;00m\n\u001b[0;32m    622\u001b[0m \u001b[38;5;124;03m\"\"\"\u001b[39;00m\n\u001b[0;32m    623\u001b[0m \u001b[38;5;28;01mif\u001b[39;00m \u001b[38;5;28mself\u001b[39m\u001b[38;5;241m.\u001b[39mchunked \u001b[38;5;129;01mand\u001b[39;00m \u001b[38;5;28mself\u001b[39m\u001b[38;5;241m.\u001b[39msupports_chunked_reads():\n\u001b[1;32m--> 624\u001b[0m     \u001b[38;5;28;01mfor\u001b[39;00m line \u001b[38;5;129;01min\u001b[39;00m \u001b[38;5;28mself\u001b[39m\u001b[38;5;241m.\u001b[39mread_chunked(amt, decode_content\u001b[38;5;241m=\u001b[39mdecode_content):\n\u001b[0;32m    625\u001b[0m         \u001b[38;5;28;01myield\u001b[39;00m line\n\u001b[0;32m    626\u001b[0m \u001b[38;5;28;01melse\u001b[39;00m:\n",
      "File \u001b[1;32mc:\\Users\\marvi\\anaconda3\\Lib\\site-packages\\urllib3\\response.py:831\u001b[0m, in \u001b[0;36mHTTPResponse.read_chunked\u001b[1;34m(self, amt, decode_content)\u001b[0m\n\u001b[0;32m    829\u001b[0m \u001b[38;5;28;01mif\u001b[39;00m \u001b[38;5;28mself\u001b[39m\u001b[38;5;241m.\u001b[39mchunk_left \u001b[38;5;241m==\u001b[39m \u001b[38;5;241m0\u001b[39m:\n\u001b[0;32m    830\u001b[0m     \u001b[38;5;28;01mbreak\u001b[39;00m\n\u001b[1;32m--> 831\u001b[0m chunk \u001b[38;5;241m=\u001b[39m \u001b[38;5;28;43mself\u001b[39;49m\u001b[38;5;241;43m.\u001b[39;49m\u001b[43m_handle_chunk\u001b[49m\u001b[43m(\u001b[49m\u001b[43mamt\u001b[49m\u001b[43m)\u001b[49m\n\u001b[0;32m    832\u001b[0m decoded \u001b[38;5;241m=\u001b[39m \u001b[38;5;28mself\u001b[39m\u001b[38;5;241m.\u001b[39m_decode(\n\u001b[0;32m    833\u001b[0m     chunk, decode_content\u001b[38;5;241m=\u001b[39mdecode_content, flush_decoder\u001b[38;5;241m=\u001b[39m\u001b[38;5;28;01mFalse\u001b[39;00m\n\u001b[0;32m    834\u001b[0m )\n\u001b[0;32m    835\u001b[0m \u001b[38;5;28;01mif\u001b[39;00m decoded:\n",
      "File \u001b[1;32mc:\\Users\\marvi\\anaconda3\\Lib\\site-packages\\urllib3\\response.py:775\u001b[0m, in \u001b[0;36mHTTPResponse._handle_chunk\u001b[1;34m(self, amt)\u001b[0m\n\u001b[0;32m    773\u001b[0m     \u001b[38;5;28mself\u001b[39m\u001b[38;5;241m.\u001b[39mchunk_left \u001b[38;5;241m=\u001b[39m \u001b[38;5;28;01mNone\u001b[39;00m\n\u001b[0;32m    774\u001b[0m \u001b[38;5;28;01melif\u001b[39;00m amt \u001b[38;5;241m<\u001b[39m \u001b[38;5;28mself\u001b[39m\u001b[38;5;241m.\u001b[39mchunk_left:\n\u001b[1;32m--> 775\u001b[0m     value \u001b[38;5;241m=\u001b[39m \u001b[38;5;28;43mself\u001b[39;49m\u001b[38;5;241;43m.\u001b[39;49m\u001b[43m_fp\u001b[49m\u001b[38;5;241;43m.\u001b[39;49m\u001b[43m_safe_read\u001b[49m\u001b[43m(\u001b[49m\u001b[43mamt\u001b[49m\u001b[43m)\u001b[49m\n\u001b[0;32m    776\u001b[0m     \u001b[38;5;28mself\u001b[39m\u001b[38;5;241m.\u001b[39mchunk_left \u001b[38;5;241m=\u001b[39m \u001b[38;5;28mself\u001b[39m\u001b[38;5;241m.\u001b[39mchunk_left \u001b[38;5;241m-\u001b[39m amt\n\u001b[0;32m    777\u001b[0m     returned_chunk \u001b[38;5;241m=\u001b[39m value\n",
      "File \u001b[1;32mc:\\Users\\marvi\\anaconda3\\Lib\\http\\client.py:631\u001b[0m, in \u001b[0;36mHTTPResponse._safe_read\u001b[1;34m(self, amt)\u001b[0m\n\u001b[0;32m    624\u001b[0m \u001b[38;5;28;01mdef\u001b[39;00m \u001b[38;5;21m_safe_read\u001b[39m(\u001b[38;5;28mself\u001b[39m, amt):\n\u001b[0;32m    625\u001b[0m \u001b[38;5;250m    \u001b[39m\u001b[38;5;124;03m\"\"\"Read the number of bytes requested.\u001b[39;00m\n\u001b[0;32m    626\u001b[0m \n\u001b[0;32m    627\u001b[0m \u001b[38;5;124;03m    This function should be used when <amt> bytes \"should\" be present for\u001b[39;00m\n\u001b[0;32m    628\u001b[0m \u001b[38;5;124;03m    reading. If the bytes are truly not available (due to EOF), then the\u001b[39;00m\n\u001b[0;32m    629\u001b[0m \u001b[38;5;124;03m    IncompleteRead exception can be used to detect the problem.\u001b[39;00m\n\u001b[0;32m    630\u001b[0m \u001b[38;5;124;03m    \"\"\"\u001b[39;00m\n\u001b[1;32m--> 631\u001b[0m     data \u001b[38;5;241m=\u001b[39m \u001b[38;5;28mself\u001b[39m\u001b[38;5;241m.\u001b[39mfp\u001b[38;5;241m.\u001b[39mread(amt)\n\u001b[0;32m    632\u001b[0m     \u001b[38;5;28;01mif\u001b[39;00m \u001b[38;5;28mlen\u001b[39m(data) \u001b[38;5;241m<\u001b[39m amt:\n\u001b[0;32m    633\u001b[0m         \u001b[38;5;28;01mraise\u001b[39;00m IncompleteRead(data, amt\u001b[38;5;241m-\u001b[39m\u001b[38;5;28mlen\u001b[39m(data))\n",
      "File \u001b[1;32mc:\\Users\\marvi\\anaconda3\\Lib\\socket.py:706\u001b[0m, in \u001b[0;36mSocketIO.readinto\u001b[1;34m(self, b)\u001b[0m\n\u001b[0;32m    704\u001b[0m \u001b[38;5;28;01mwhile\u001b[39;00m \u001b[38;5;28;01mTrue\u001b[39;00m:\n\u001b[0;32m    705\u001b[0m     \u001b[38;5;28;01mtry\u001b[39;00m:\n\u001b[1;32m--> 706\u001b[0m         \u001b[38;5;28;01mreturn\u001b[39;00m \u001b[38;5;28;43mself\u001b[39;49m\u001b[38;5;241;43m.\u001b[39;49m\u001b[43m_sock\u001b[49m\u001b[38;5;241;43m.\u001b[39;49m\u001b[43mrecv_into\u001b[49m\u001b[43m(\u001b[49m\u001b[43mb\u001b[49m\u001b[43m)\u001b[49m\n\u001b[0;32m    707\u001b[0m     \u001b[38;5;28;01mexcept\u001b[39;00m timeout:\n\u001b[0;32m    708\u001b[0m         \u001b[38;5;28mself\u001b[39m\u001b[38;5;241m.\u001b[39m_timeout_occurred \u001b[38;5;241m=\u001b[39m \u001b[38;5;28;01mTrue\u001b[39;00m\n",
      "File \u001b[1;32mc:\\Users\\marvi\\anaconda3\\Lib\\ssl.py:1311\u001b[0m, in \u001b[0;36mSSLSocket.recv_into\u001b[1;34m(self, buffer, nbytes, flags)\u001b[0m\n\u001b[0;32m   1307\u001b[0m     \u001b[38;5;28;01mif\u001b[39;00m flags \u001b[38;5;241m!=\u001b[39m \u001b[38;5;241m0\u001b[39m:\n\u001b[0;32m   1308\u001b[0m         \u001b[38;5;28;01mraise\u001b[39;00m \u001b[38;5;167;01mValueError\u001b[39;00m(\n\u001b[0;32m   1309\u001b[0m           \u001b[38;5;124m\"\u001b[39m\u001b[38;5;124mnon-zero flags not allowed in calls to recv_into() on \u001b[39m\u001b[38;5;132;01m%s\u001b[39;00m\u001b[38;5;124m\"\u001b[39m \u001b[38;5;241m%\u001b[39m\n\u001b[0;32m   1310\u001b[0m           \u001b[38;5;28mself\u001b[39m\u001b[38;5;241m.\u001b[39m\u001b[38;5;18m__class__\u001b[39m)\n\u001b[1;32m-> 1311\u001b[0m     \u001b[38;5;28;01mreturn\u001b[39;00m \u001b[38;5;28;43mself\u001b[39;49m\u001b[38;5;241;43m.\u001b[39;49m\u001b[43mread\u001b[49m\u001b[43m(\u001b[49m\u001b[43mnbytes\u001b[49m\u001b[43m,\u001b[49m\u001b[43m \u001b[49m\u001b[43mbuffer\u001b[49m\u001b[43m)\u001b[49m\n\u001b[0;32m   1312\u001b[0m \u001b[38;5;28;01melse\u001b[39;00m:\n\u001b[0;32m   1313\u001b[0m     \u001b[38;5;28;01mreturn\u001b[39;00m \u001b[38;5;28msuper\u001b[39m()\u001b[38;5;241m.\u001b[39mrecv_into(buffer, nbytes, flags)\n",
      "File \u001b[1;32mc:\\Users\\marvi\\anaconda3\\Lib\\ssl.py:1167\u001b[0m, in \u001b[0;36mSSLSocket.read\u001b[1;34m(self, len, buffer)\u001b[0m\n\u001b[0;32m   1165\u001b[0m \u001b[38;5;28;01mtry\u001b[39;00m:\n\u001b[0;32m   1166\u001b[0m     \u001b[38;5;28;01mif\u001b[39;00m buffer \u001b[38;5;129;01mis\u001b[39;00m \u001b[38;5;129;01mnot\u001b[39;00m \u001b[38;5;28;01mNone\u001b[39;00m:\n\u001b[1;32m-> 1167\u001b[0m         \u001b[38;5;28;01mreturn\u001b[39;00m \u001b[38;5;28;43mself\u001b[39;49m\u001b[38;5;241;43m.\u001b[39;49m\u001b[43m_sslobj\u001b[49m\u001b[38;5;241;43m.\u001b[39;49m\u001b[43mread\u001b[49m\u001b[43m(\u001b[49m\u001b[38;5;28;43mlen\u001b[39;49m\u001b[43m,\u001b[49m\u001b[43m \u001b[49m\u001b[43mbuffer\u001b[49m\u001b[43m)\u001b[49m\n\u001b[0;32m   1168\u001b[0m     \u001b[38;5;28;01melse\u001b[39;00m:\n\u001b[0;32m   1169\u001b[0m         \u001b[38;5;28;01mreturn\u001b[39;00m \u001b[38;5;28mself\u001b[39m\u001b[38;5;241m.\u001b[39m_sslobj\u001b[38;5;241m.\u001b[39mread(\u001b[38;5;28mlen\u001b[39m)\n",
      "\u001b[1;31mKeyboardInterrupt\u001b[0m: "
     ]
    }
   ],
   "source": [
    "census = requests.get(\"https://api.census.gov/data/timeseries/eits/m3.json?get=cell_value,data_type_code,time_slot_id,seasonally_adj,category_code,error_data&for=US&time=from+1992-01+to+2024-03&key=a9c6bd12867708842174babc90f20cfaa20255a7\")\n",
    "census = census.json()\n",
    "cbs = pd.DataFrame(census, columns = census[0])\n",
    "cbs = cbs[cbs[\"data_type_code\"] == 'VS'].reset_index(drop = True)"
   ]
  },
  {
   "cell_type": "code",
   "execution_count": null,
   "metadata": {},
   "outputs": [],
   "source": [
    "#Grabs and sorts unique values for the category code\n",
    "b = cbs[\"category_code\"].tolist()\n",
    "cat_abv = list(od.fromkeys(b))\n",
    "cat_abv = sorted(cat_abv)"
   ]
  },
  {
   "cell_type": "code",
   "execution_count": 3,
   "metadata": {},
   "outputs": [
    {
     "name": "stdout",
     "output_type": "stream",
     "text": [
      "10\n"
     ]
    }
   ],
   "source": [
    "reader = PdfReader('m3_codes.pdf')\n",
    "print(len(reader.pages))\n",
    "text = \"\"\n",
    "\n",
    "for i in range(0, len(reader.pages)):\n",
    "    text += reader.pages[i].extract_text()\n",
    "text = str(text)\n",
    "\n",
    "o_text = text\n",
    "\n",
    "separator = [\" \", \";\", \",\", \"\\'\",\".\",\":\"]\n",
    "for sep in separator:\n",
    "    text = text.replace(sep, \"\")\n",
    "\n",
    "text = text[105:]"
   ]
  },
  {
   "cell_type": "code",
   "execution_count": 5,
   "metadata": {},
   "outputs": [
    {
     "data": {
      "text/plain": [
       "['MTMTotalManufacturing\\n',\n",
       " 'MXTManufacturingExcludingTransportation\\n',\n",
       " 'MTUAllManufacturingwithUnfilledOrders\\n',\n",
       " 'MXDManufacturingExcludingDefense\\n',\n",
       " 'DXDDurableExcludingDefense\\n',\n",
       " 'MDMDurableGoodsTotalMDUDurableGoodswithUnfilledOrders\\n',\n",
       " 'MNMNondurableGoodsTotal\\n',\n",
       " 'MNUNondurableGoodswithUnfilledOrdersAUEAutomotiveEquipment\\n',\n",
       " 'HGAHomeGoodsandApparelCOSConsumerStaples\\n',\n",
       " 'MAEMachineryandEquipment\\n',\n",
       " 'BUSBusinessSupplies\\n',\n",
       " 'CMSConstructionSuppliesDEPDefenseProducts\\n',\n",
       " 'OMPOtherMaterialsSuppliesandIntermediateProducts\\n',\n",
       " 'TCGTotalCapitalGoodsNDENondefenseCapitalGoods\\n',\n",
       " 'NXANondefenseCapitalGoodsExcludingAircraftandParts\\n',\n",
       " 'DEFDefenseCapitalGoodsDXCDurablesExcludingCapitalGoodsDXADurablesExcludingAircraftandParts\\n',\n",
       " 'N4XNondefenseAircraftMissilesSpaceVehiclesandParts\\n',\n",
       " 'N5XNondefenseShipbuildingTankComponentsand\\n',\n",
       " 'D4XDefenseAircraftMissilesSpaceVehiclesandParts\\n',\n",
       " 'D5XDefenseShipbuildingTanksandOrdnance\\n',\n",
       " 'SX4AircraftMissilesSpaceVehiclesandParts\\n',\n",
       " 'SX5ShipbuildingTanksTankComponentsandOrdnance\\n',\n",
       " 'TPDProducersDurableEquipment\\n',\n",
       " 'HDGHouseholdDurableGoods\\n',\n",
       " 'ATPAdvancedTechnologyProductIndustries(notpublished)\\n',\n",
       " 'ITIInformationTechnologyIndustries\\n',\n",
       " 'HCPHealthCareProductsMX1AllOtherDurable\\n',\n",
       " 'MX2AllOtherNondurable\\n',\n",
       " '24MLumberandWoodProducts25MFurnitureandFixtures32MStoneClayandGlassProducts\\n',\n",
       " '33MPrimaryMetalsIndustries\\n',\n",
       " '34MFabricatedMetalProducts35MIndustrialMachineryandEquipment\\n',\n",
       " '36MElectronicandOtherElectricalEquipment\\n',\n",
       " '37MTransportationEquipment\\n',\n",
       " '38MInstrumentsandRelatedProducts\\n',\n",
       " '39MOtherDurableGoods\\n',\n",
       " '20MFoodandKindredProducts\\n',\n",
       " '21MTobaccoProducts\\n',\n",
       " '22MTextileMillProducts23MApparelandOtherFinishedTextileProducts26MPaperandAlliedProducts\\n',\n",
       " '27MPrintingPublishingandAlliedIndustries\\n',\n",
       " '28MChemicalsandAlliedProducts\\n',\n",
       " '29MPetroleumandCoalProducts30MRubberandMiscellaneousPlasticsProducts\\n',\n",
       " '31MLeatherandLeatherProducts\\n',\n",
       " 'M3IndustryCategories\\n',\n",
       " '24AWoodContainersPalletsandSkids24BWoodBuildingsandMobileHomes24CAllOtherWoodProducts\\n',\n",
       " '25AHouseholdFurniture25BAllOtherFurniture\\n',\n",
       " '32AGlassContainers\\n',\n",
       " '32BKitchenArticlesandPottery\\n',\n",
       " '32COtherStoneClayandGlassProducts\\n',\n",
       " '33ABlastFurnacesSteelMills33BIronandSteelFoundries33CNonferrousMetals\\n',\n",
       " '34AMetalCansandShippingContainers34BCutleryandHandtools\\n',\n",
       " '34CBuildingMaterialsandWireProducts\\n',\n",
       " '34DOrdnanceandAccessoriesexceptfortheDepartmentof\\n',\n",
       " '34EOrdnanceandAccessoriesfortheDepartmentofDefense\\n',\n",
       " '34XOrdnanceandAccessories\\n',\n",
       " '34FOtherFabricatedMetalProducts\\n',\n",
       " 'SX1EnginesandTurbines35ASteamEnginesandTurbines\\n',\n",
       " '35BInternalCombustionEngines\\n',\n",
       " '35CFarmandGardenMachinery\\n',\n",
       " '35DConstructionMiningMaterialHandlingEquipment\\n',\n",
       " '35EMetalworkingMachinery35FSpecialIndustryMachinery\\n',\n",
       " '35GGeneralIndustrialMachinery\\n',\n",
       " '35HComputerandOfficeEquipment35IRefrigerationHeatingandServiceIndustryMachinery\\n',\n",
       " '35JIndustrialMachineryNEC\\n',\n",
       " 'SX2ElectricalTransmissionandDistributionEquipmentand\\n',\n",
       " '36AElectricalTransmissionandDistributionEquipment\\n',\n",
       " '36BElectricalIndustrialApparatus36CHouseholdAppliances\\n',\n",
       " '36DElectricLightingandWiringEquipment\\n',\n",
       " '36EHouseholdAudioandVideoEquipment36FCommunicationEquipmentexceptfortheDepartmentof\\n',\n",
       " '36GCommunicationEquipmentfortheDepartmentofDefense\\n',\n",
       " '36XCommunicationEquipment\\n',\n",
       " '36HElectronicComponentsandAccessories36IMiscellaneousElectricalEquipmentandSupplies\\n',\n",
       " 'SX3MotorVehiclesandParts\\n',\n",
       " '37CCompleteAircraftMissilesandSpaceVehiclesexceptfor\\n',\n",
       " '37DCompleteAircraftMissilesandSpaceVehiclesforthe\\n',\n",
       " '37XCompleteAircraftMissilesandSpaceVehicles\\n',\n",
       " '37EAircraftMissileandSpaceVehicleEnginesandParts\\n',\n",
       " '37FAircraftMissileandSpaceVehicleEnginesandPartsfor\\n',\n",
       " '37YAircraftMissileandSpaceVehicleEnginesandParts\\n',\n",
       " '37GShipsandTankComponentsexceptfortheDepartmentof\\n',\n",
       " '37HShipsTanksandTankComponentsfortheDepartmentof\\n',\n",
       " '37ZShipsTanksandTankComponents\\n',\n",
       " '37IRailroadEquipment37JOtherTransportationEquipment\\n',\n",
       " '38ASearchandNavigationEquipmentexceptforthe\\n',\n",
       " '38BSearchandNavigationEquipmentfortheDepartmentof\\n',\n",
       " '38XSearchandNavigationEquipment\\n',\n",
       " '38CMeasuringandControllingDevices38DMedicalInstrumentsandSupplies\\n',\n",
       " '38EOphthalmicGoodsWatchesandClocks\\n',\n",
       " '38FPhotographicGoods\\n',\n",
       " '39AMiscellaneousPersonalGoods\\n',\n",
       " '39BMiscellaneousManufactures\\n',\n",
       " '20AMeatProducts20BDairyProducts20CFatsandOils\\n',\n",
       " '20DBeverages\\n',\n",
       " '20EAllOtherFoodandKindredProducts\\n',\n",
       " '21ATobaccoProducts\\n',\n",
       " '22ABroadwovenFabricsandOtherTextiles22BKnittingMills22CCarpetsandRugsApparelandOtherFinishedTextileProducts\\n',\n",
       " '23AApparelandOtherFinishedTextileProducts\\n',\n",
       " '26APulpPaperandPaperboardMillProducts\\n',\n",
       " '26BPaperboardContainersandBoxes\\n',\n",
       " '26CMiscellaneousConvertedPaperProducts\\n',\n",
       " '27ANewspapersPeriodicalsandBooks\\n',\n",
       " '27BOtherPrintingandPublishing\\n',\n",
       " '28AIndustrialChemicals28BPaintsandRelatedProducts28CDrugsSoapsandToiletries\\n',\n",
       " '28DAgriculturalChemicals\\n',\n",
       " '29AAsphaltPavingandRoofingMaterials\\n',\n",
       " '29BOtherPetroleumRefiningProducts\\n',\n",
       " '30ATiresandTubes\\n',\n",
       " '30BRubberandPlasticsFootwearHoseBeltingGasketsand\\n',\n",
       " 'NEC\\n',\n",
       " '30CMiscellaneousPlasticsProductsNEC\\n',\n",
       " '31ALeatherTanningandFinishingandFootwearCutStock31BOtherLeatherProducts\\n',\n",
       " 'VSValueofShipments\\n',\n",
       " 'NONewOrders\\n',\n",
       " 'UOUnfilledOrders\\n',\n",
       " 'TITotalInventories\\n',\n",
       " 'MIMaterialsandSuppliesInventories\\n',\n",
       " 'WIWorkinProcessInventories\\n',\n",
       " 'FIFinishedGoodsInventories\\n',\n",
       " 'ISInventoriestoShipmentsRatios\\n',\n",
       " 'USUnfilledOrderstoShipmentsRatios\\n']"
      ]
     },
     "execution_count": 5,
     "metadata": {},
     "output_type": "execute_result"
    }
   ],
   "source": [
    "clean = re.findall(\"[A-Z|0-90-9A-Z]{3}.*\\W\", text)[2:-8]\n",
    "clean\n",
    "#for item in clean:\n",
    "    \n"
   ]
  },
  {
   "cell_type": "code",
   "execution_count": 6,
   "metadata": {},
   "outputs": [
    {
     "data": {
      "text/plain": [
       "'DEFDefenseCapitalGoodsDXCDurablesExcludingCapitalGoodsDXADurablesExcludingAircraftandParts\\n'"
      ]
     },
     "execution_count": 6,
     "metadata": {},
     "output_type": "execute_result"
    }
   ],
   "source": [
    "item = str(clean[15])\n",
    "item"
   ]
  },
  {
   "cell_type": "code",
   "execution_count": 82,
   "metadata": {},
   "outputs": [
    {
     "data": {
      "text/plain": [
       "'DEFDefenseCapitalGoodsDXCDurablesExcludingCapitalGoodsDXADurablesExcludingAircraftandParts\\n'"
      ]
     },
     "execution_count": 82,
     "metadata": {},
     "output_type": "execute_result"
    }
   ],
   "source": []
  },
  {
   "cell_type": "code",
   "execution_count": 16,
   "metadata": {},
   "outputs": [
    {
     "ename": "TypeError",
     "evalue": "'int' object is not iterable",
     "output_type": "error",
     "traceback": [
      "\u001b[1;31m---------------------------------------------------------------------------\u001b[0m",
      "\u001b[1;31mTypeError\u001b[0m                                 Traceback (most recent call last)",
      "Cell \u001b[1;32mIn[16], line 8\u001b[0m\n\u001b[0;32m      6\u001b[0m \u001b[38;5;28;01mfor\u001b[39;00m stuff \u001b[38;5;129;01min\u001b[39;00m list_2:\n\u001b[0;32m      7\u001b[0m     x \u001b[38;5;241m=\u001b[39m re\u001b[38;5;241m.\u001b[39msearch(stuff, item)\n\u001b[1;32m----> 8\u001b[0m     \u001b[38;5;28mprint\u001b[39m(\u001b[38;5;28;43mlist\u001b[39;49m\u001b[43m(\u001b[49m\u001b[43mx\u001b[49m\u001b[38;5;241;43m.\u001b[39;49m\u001b[43mstart\u001b[49m\u001b[43m(\u001b[49m\u001b[43m)\u001b[49m\u001b[43m)\u001b[49m)\n",
      "\u001b[1;31mTypeError\u001b[0m: 'int' object is not iterable"
     ]
    }
   ],
   "source": [
    "#re.findall(\"[A-Z]{3}.[\\dA-Za-z]\", item)\n",
    "list_2 = re.findall(\"[A-Z|0-90-9A-Z]{3}\", item)\n",
    "\n",
    "len(list_2)\n",
    "\n",
    "for stuff in list_2:\n",
    "    x = re.search(stuff, item)\n",
    "    print(list(x.start()))"
   ]
  },
  {
   "cell_type": "code",
   "execution_count": 19,
   "metadata": {},
   "outputs": [
    {
     "data": {
      "text/plain": [
       "[('MTM', 'o'),\n",
       " ('MXT', 'a'),\n",
       " ('MTU', 'l'),\n",
       " ('MXD', 'a'),\n",
       " ('DXD', 'u'),\n",
       " ('MDM', 'u'),\n",
       " ('MDU', 'u'),\n",
       " ('MNM', 'o'),\n",
       " ('MNU', 'o'),\n",
       " ('AUE', 'u'),\n",
       " ('HGA', 'o'),\n",
       " ('COS', 'o'),\n",
       " ('MAE', 'a'),\n",
       " ('BUS', 'u'),\n",
       " ('CMS', 'o'),\n",
       " ('DEP', 'e'),\n",
       " ('OMP', 't'),\n",
       " ('TCG', 'o'),\n",
       " ('NDE', 'o'),\n",
       " ('NXA', 'o'),\n",
       " ('DEF', 'e'),\n",
       " ('DXC', 'u'),\n",
       " ('DXA', 'u'),\n",
       " ('N4X', 'o'),\n",
       " ('N5X', 'o'),\n",
       " ('D4X', 'e'),\n",
       " ('D5X', 'e'),\n",
       " ('SX4', 'i'),\n",
       " ('SX5', 'h'),\n",
       " ('TPD', 'r'),\n",
       " ('HDG', 'o'),\n",
       " ('ATP', 'd'),\n",
       " ('ITI', 'n'),\n",
       " ('HCP', 'e'),\n",
       " ('MX1', 'l'),\n",
       " ('MX2', 'l'),\n",
       " ('24M', 'u'),\n",
       " ('25M', 'u'),\n",
       " ('32M', 't'),\n",
       " ('33M', 'r'),\n",
       " ('34M', 'a'),\n",
       " ('35M', 'n'),\n",
       " ('36M', 'l'),\n",
       " ('37M', 'r'),\n",
       " ('38M', 'n'),\n",
       " ('39M', 't'),\n",
       " ('20M', 'o'),\n",
       " ('21M', 'o'),\n",
       " ('22M', 'e'),\n",
       " ('23M', 'p'),\n",
       " ('26M', 'a'),\n",
       " ('27M', 'r'),\n",
       " ('28M', 'h'),\n",
       " ('29M', 'e'),\n",
       " ('30M', 'u'),\n",
       " ('31M', 'e'),\n",
       " ('M3I', 'd'),\n",
       " ('24A', 'o'),\n",
       " ('24B', 'o'),\n",
       " ('24C', 'l'),\n",
       " ('25A', 'o'),\n",
       " ('25B', 'l'),\n",
       " ('32A', 'l'),\n",
       " ('32B', 'i'),\n",
       " ('32C', 't'),\n",
       " ('33A', 'l'),\n",
       " ('33B', 'r'),\n",
       " ('33C', 'o'),\n",
       " ('34A', 'e'),\n",
       " ('34B', 'u'),\n",
       " ('34C', 'u'),\n",
       " ('34D', 'r'),\n",
       " ('34E', 'r'),\n",
       " ('34X', 'r'),\n",
       " ('34F', 't'),\n",
       " ('SX1', 'n'),\n",
       " ('35A', 't'),\n",
       " ('35B', 'n'),\n",
       " ('35C', 'a'),\n",
       " ('35D', 'o'),\n",
       " ('35E', 'e'),\n",
       " ('35F', 'p'),\n",
       " ('35G', 'e'),\n",
       " ('35H', 'o'),\n",
       " ('35I', 'e'),\n",
       " ('35J', 'n'),\n",
       " ('SX2', 'l'),\n",
       " ('36A', 'l'),\n",
       " ('36B', 'l'),\n",
       " ('36C', 'o'),\n",
       " ('36D', 'l'),\n",
       " ('36E', 'o'),\n",
       " ('36F', 'o'),\n",
       " ('36G', 'o'),\n",
       " ('36X', 'o'),\n",
       " ('36H', 'l'),\n",
       " ('36I', 'i'),\n",
       " ('SX3', 'o'),\n",
       " ('37C', 'o'),\n",
       " ('37D', 'o'),\n",
       " ('37X', 'o'),\n",
       " ('37E', 'i'),\n",
       " ('37F', 'i'),\n",
       " ('37Y', 'i'),\n",
       " ('37G', 'h'),\n",
       " ('37H', 'h'),\n",
       " ('37Z', 'h'),\n",
       " ('37I', 'a'),\n",
       " ('37J', 't'),\n",
       " ('38A', 'e'),\n",
       " ('38B', 'e'),\n",
       " ('38X', 'e'),\n",
       " ('38C', 'e'),\n",
       " ('38D', 'e'),\n",
       " ('38E', 'p'),\n",
       " ('38F', 'h'),\n",
       " ('39A', 'i'),\n",
       " ('39B', 'i'),\n",
       " ('20A', 'e'),\n",
       " ('20B', 'a'),\n",
       " ('20C', 'a'),\n",
       " ('20D', 'e'),\n",
       " ('20E', 'l'),\n",
       " ('21A', 'o'),\n",
       " ('22A', 'r'),\n",
       " ('22B', 'n'),\n",
       " ('22C', 'a'),\n",
       " ('23A', 'p'),\n",
       " ('26A', 'u'),\n",
       " ('26B', 'a'),\n",
       " ('26C', 'i'),\n",
       " ('27A', 'e'),\n",
       " ('27B', 't'),\n",
       " ('28A', 'n'),\n",
       " ('28B', 'a'),\n",
       " ('28C', 'r'),\n",
       " ('28D', 'g'),\n",
       " ('29A', 's'),\n",
       " ('29B', 't'),\n",
       " ('30A', 'i'),\n",
       " ('30B', 'u'),\n",
       " ('30C', 'i'),\n",
       " ('31A', 'e'),\n",
       " ('31B', 't'),\n",
       " ('VSV', 'l'),\n",
       " ('NON', 'w'),\n",
       " ('UOU', 'f'),\n",
       " ('TIT', 't'),\n",
       " ('MIM', 't'),\n",
       " ('WIW', 'r'),\n",
       " ('FIF', 'n'),\n",
       " ('ISI', 'v'),\n",
       " ('USU', 'f'),\n",
       " ('FIL', 'L')]"
      ]
     },
     "execution_count": 19,
     "metadata": {},
     "output_type": "execute_result"
    }
   ],
   "source": [
    "clean = re.findall(\"([A-Z|0-90-9A-Z]{3}).([A-Za-z])\", text)[2:-8]\n",
    "clean\n"
   ]
  },
  {
   "cell_type": "code",
   "execution_count": 102,
   "metadata": {},
   "outputs": [
    {
     "data": {
      "text/plain": [
       "['axyzb']"
      ]
     },
     "execution_count": 102,
     "metadata": {},
     "output_type": "execute_result"
    }
   ],
   "source": []
  }
 ],
 "metadata": {
  "kernelspec": {
   "display_name": "base",
   "language": "python",
   "name": "python3"
  },
  "language_info": {
   "codemirror_mode": {
    "name": "ipython",
    "version": 3
   },
   "file_extension": ".py",
   "mimetype": "text/x-python",
   "name": "python",
   "nbconvert_exporter": "python",
   "pygments_lexer": "ipython3",
   "version": "3.11.5"
  }
 },
 "nbformat": 4,
 "nbformat_minor": 2
}
